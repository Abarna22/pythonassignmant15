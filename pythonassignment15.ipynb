{
 "cells": [
  {
   "cell_type": "code",
   "execution_count": 4,
   "id": "a26a6c4e",
   "metadata": {},
   "outputs": [
    {
     "name": "stdout",
     "output_type": "stream",
     "text": [
      "Enter the range:100\n",
      "0,35,70\n"
     ]
    }
   ],
   "source": [
    "#qp1\n",
    "def divnum(n):\n",
    "    for i in range(n+1):\n",
    "        if i%5==0 and i%7==0:\n",
    "            yield i\n",
    "            \n",
    "n=int(input(\"Enter the range:\"))\n",
    "values=[]\n",
    "for i in divnum(n):\n",
    "    values.append(str(i))\n",
    "print(\",\".join(values))"
   ]
  },
  {
   "cell_type": "code",
   "execution_count": 3,
   "id": "73eec9cd",
   "metadata": {},
   "outputs": [
    {
     "name": "stdout",
     "output_type": "stream",
     "text": [
      "enter the range;10\n",
      "0,2,4,6,8,10\n"
     ]
    }
   ],
   "source": [
    "#qp2\n",
    "\n",
    "def evennum(n):\n",
    "    for i in range(n+1):\n",
    "        if i%2==0:\n",
    "            yield i\n",
    "n=int(input(\"enter the range;\"))\n",
    "values=[]\n",
    "for i in evennum(n):\n",
    "    values.append(str(i))\n",
    "    \n",
    "print(\",\".join(values))"
   ]
  },
  {
   "cell_type": "code",
   "execution_count": 8,
   "id": "296adf37",
   "metadata": {},
   "outputs": [
    {
     "name": "stdout",
     "output_type": "stream",
     "text": [
      "Enter the range:7\n",
      "0\n",
      "1\n",
      "1\n",
      "2\n",
      "3\n",
      "5\n",
      "8\n",
      "13\n"
     ]
    }
   ],
   "source": [
    "#qp3\n",
    "\n",
    "n=int(input(\"Enter the range:\"))\n",
    "a=0\n",
    "b=1\n",
    "print(a)\n",
    "print(b)\n",
    "\n",
    "for i in range(n-1):\n",
    "    temp=a+b\n",
    "    a=b\n",
    "    b=temp\n",
    "    print(temp)\n",
    "    "
   ]
  },
  {
   "cell_type": "code",
   "execution_count": 11,
   "id": "53c505a8",
   "metadata": {},
   "outputs": [
    {
     "name": "stdout",
     "output_type": "stream",
     "text": [
      "Enter the range:7\n",
      "[0, 1, 1, 2, 3, 5, 8, 13, 21]\n"
     ]
    }
   ],
   "source": [
    "n=int(input(\"Enter the range:\"))\n",
    "mylist=[0,1]  \n",
    "[mylist.append(mylist[-2]+mylist[-1]) for n in range(n)]\n",
    "print(mylist)  "
   ]
  },
  {
   "cell_type": "code",
   "execution_count": 2,
   "id": "33d8d9e5",
   "metadata": {},
   "outputs": [
    {
     "name": "stdout",
     "output_type": "stream",
     "text": [
      "Enter the email address:john@google.com\n",
      "john\n"
     ]
    }
   ],
   "source": [
    "#qp4\n",
    "\n",
    "import re\n",
    "\n",
    "email=input(\"Enter the email address:\")\n",
    "pat2 = \"(\\w+)@(\\w+)\\.(com)\"\n",
    "r2 = re.match(pat2,email)\n",
    "print(r2.group(1))\n",
    "    "
   ]
  },
  {
   "cell_type": "code",
   "execution_count": 8,
   "id": "a1de50d2",
   "metadata": {},
   "outputs": [
    {
     "name": "stdout",
     "output_type": "stream",
     "text": [
      "25\n",
      "0\n"
     ]
    }
   ],
   "source": [
    "#qp5\n",
    "\n",
    "class shape:\n",
    "   # def __int__(self):\n",
    "        #pass\n",
    "    def area(self):\n",
    "        return 0\n",
    "    \n",
    "class square(shape):\n",
    "    def __init__(self,l=0):\n",
    "        self.l = l\n",
    "    def area(self):\n",
    "        return self.l*self.l\n",
    "    \n",
    "asqr=square(5)\n",
    "print(asqr.area())\n",
    "print(square().area())"
   ]
  },
  {
   "cell_type": "code",
   "execution_count": null,
   "id": "994aaada",
   "metadata": {},
   "outputs": [],
   "source": []
  }
 ],
 "metadata": {
  "kernelspec": {
   "display_name": "Python 3 (ipykernel)",
   "language": "python",
   "name": "python3"
  },
  "language_info": {
   "codemirror_mode": {
    "name": "ipython",
    "version": 3
   },
   "file_extension": ".py",
   "mimetype": "text/x-python",
   "name": "python",
   "nbconvert_exporter": "python",
   "pygments_lexer": "ipython3",
   "version": "3.9.12"
  }
 },
 "nbformat": 4,
 "nbformat_minor": 5
}
